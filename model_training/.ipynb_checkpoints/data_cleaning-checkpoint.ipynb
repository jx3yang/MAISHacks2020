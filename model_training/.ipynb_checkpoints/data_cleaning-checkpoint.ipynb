{
 "cells": [
  {
   "cell_type": "code",
   "execution_count": 1,
   "metadata": {},
   "outputs": [],
   "source": [
    "import pandas as pd"
   ]
  },
  {
   "cell_type": "code",
   "execution_count": 4,
   "metadata": {},
   "outputs": [],
   "source": [
    "data = pd.read_csv('data/u00_sensing_data.csv')"
   ]
  },
  {
   "cell_type": "code",
   "execution_count": 5,
   "metadata": {},
   "outputs": [
    {
     "data": {
      "text/plain": [
       "Index(['timestamp', 'conversation', 'bt_level_avg', 'bt_level_std',\n",
       "       'bt_total_devices_around', 'bt_total_far', 'bt_total_farther',\n",
       "       'bt_total_near', 'bt_total_nearer', 'wifi_level_avg', 'wifi_level_std',\n",
       "       'wifi_total_devices_around', 'wifi_total_far', 'wifi_total_near',\n",
       "       'wifi_total_nearer', 'phone_in_dark', 'phone_charging', 'phone_locked',\n",
       "       'activity_inference_0', 'activity_inference_1', 'activity_inference_2',\n",
       "       'activity_inference_3', 'audio_inference_0', 'audio_inference_1',\n",
       "       'audio_inference_2', 'audio_inference_3'],\n",
       "      dtype='object')"
      ]
     },
     "execution_count": 5,
     "metadata": {},
     "output_type": "execute_result"
    }
   ],
   "source": [
    "data.keys()"
   ]
  },
  {
   "cell_type": "markdown",
   "metadata": {},
   "source": []
  }
 ],
 "metadata": {
  "kernelspec": {
   "display_name": "Python 3",
   "language": "python",
   "name": "python3"
  },
  "language_info": {
   "codemirror_mode": {
    "name": "ipython",
    "version": 3
   },
   "file_extension": ".py",
   "mimetype": "text/x-python",
   "name": "python",
   "nbconvert_exporter": "python",
   "pygments_lexer": "ipython3",
   "version": "3.8.5"
  }
 },
 "nbformat": 4,
 "nbformat_minor": 4
}
