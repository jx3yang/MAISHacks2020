{
  "nbformat": 4,
  "nbformat_minor": 0,
  "metadata": {
    "colab": {
      "name": "diary_sentiment.ipynb",
      "provenance": [],
      "collapsed_sections": [],
      "toc_visible": true
    },
    "kernelspec": {
      "name": "python3",
      "display_name": "Python 3"
    },
    "accelerator": "GPU"
  },
  "cells": [
    {
      "cell_type": "markdown",
      "metadata": {
        "id": "gAdD86DoFdX5"
      },
      "source": [
        "# Download Dataset"
      ]
    },
    {
      "cell_type": "code",
      "metadata": {
        "id": "3Ff0wB3oEQDu",
        "outputId": "6ad77354-de2d-40c7-c639-3c8894f7b316",
        "colab": {
          "base_uri": "https://localhost:8080/",
          "height": 68
        }
      },
      "source": [
        "import os\n",
        "\n",
        "# to be changed to your own username / password\n",
        "os.environ['KAGGLE_USERNAME'] = 'user'\n",
        "os.environ['KAGGLE_KEY'] = 'password'\n",
        "\n",
        "!kaggle datasets download cosmos98/twitter-and-reddit-sentimental-analysis-dataset"
      ],
      "execution_count": 1,
      "outputs": [
        {
          "output_type": "stream",
          "text": [
            "Downloading twitter-and-reddit-sentimental-analysis-dataset.zip to /content\n",
            " 50% 5.00M/10.0M [00:00<00:00, 14.1MB/s]\n",
            "100% 10.0M/10.0M [00:00<00:00, 25.4MB/s]\n"
          ],
          "name": "stdout"
        }
      ]
    },
    {
      "cell_type": "code",
      "metadata": {
        "id": "3JQDNyHmEg3I",
        "outputId": "d58acad6-5a5c-40ca-cb65-51186cae5bf0",
        "colab": {
          "base_uri": "https://localhost:8080/",
          "height": 68
        }
      },
      "source": [
        "!unzip twitter-and-reddit-sentimental-analysis-dataset.zip"
      ],
      "execution_count": 2,
      "outputs": [
        {
          "output_type": "stream",
          "text": [
            "Archive:  twitter-and-reddit-sentimental-analysis-dataset.zip\n",
            "  inflating: Reddit_Data.csv         \n",
            "  inflating: Twitter_Data.csv        \n"
          ],
          "name": "stdout"
        }
      ]
    },
    {
      "cell_type": "markdown",
      "metadata": {
        "id": "2b_ul7PIFhLg"
      },
      "source": [
        "# Load to Pandas"
      ]
    },
    {
      "cell_type": "code",
      "metadata": {
        "id": "xcqe83aBFBwm"
      },
      "source": [
        "import pandas as pd\n",
        "from sklearn.model_selection import train_test_split\n",
        "import matplotlib.pyplot as plt\n",
        "\n",
        "reddit_file = 'Reddit_Data.csv'\n",
        "twitter_file = 'Twitter_Data.csv'\n",
        "\n",
        "SEED = 42\n",
        "\n",
        "def load(data_file, text_col):\n",
        "    df = pd.read_csv(data_file)\n",
        "    df = df[(df['category'].notna()) & (df[text_col].notna())]\n",
        "    df['text'] = df[text_col]\n",
        "    return df[['text', 'category']]\n",
        "\n",
        "def load_reddit_data():\n",
        "    return load(reddit_file, 'clean_comment')\n",
        "\n",
        "def load_twitter_data():\n",
        "    return load(twitter_file, 'clean_text')\n",
        "\n",
        "def load_data():\n",
        "    df = pd.concat([load_reddit_data(), load_twitter_data()])\n",
        "    df_train, df_test = train_test_split(df, test_size=0.8, random_state=SEED)\n",
        "    df_train, df_val = train_test_split(df_train, test_size=0.2, random_state=SEED)\n",
        "    return df_train, df_val, df_test"
      ],
      "execution_count": 3,
      "outputs": []
    },
    {
      "cell_type": "code",
      "metadata": {
        "id": "UJFrpfFeFG-F"
      },
      "source": [
        "df_train, df_val, df_test = load_data()"
      ],
      "execution_count": 4,
      "outputs": []
    },
    {
      "cell_type": "code",
      "metadata": {
        "id": "EjbiVDh7FIu9",
        "outputId": "d931de72-1226-419d-f583-61fafd73a933",
        "colab": {
          "base_uri": "https://localhost:8080/",
          "height": 419
        }
      },
      "source": [
        "df_train"
      ],
      "execution_count": 5,
      "outputs": [
        {
          "output_type": "execute_result",
          "data": {
            "text/html": [
              "<div>\n",
              "<style scoped>\n",
              "    .dataframe tbody tr th:only-of-type {\n",
              "        vertical-align: middle;\n",
              "    }\n",
              "\n",
              "    .dataframe tbody tr th {\n",
              "        vertical-align: top;\n",
              "    }\n",
              "\n",
              "    .dataframe thead th {\n",
              "        text-align: right;\n",
              "    }\n",
              "</style>\n",
              "<table border=\"1\" class=\"dataframe\">\n",
              "  <thead>\n",
              "    <tr style=\"text-align: right;\">\n",
              "      <th></th>\n",
              "      <th>text</th>\n",
              "      <th>category</th>\n",
              "    </tr>\n",
              "  </thead>\n",
              "  <tbody>\n",
              "    <tr>\n",
              "      <th>106053</th>\n",
              "      <td>party name appeal for votes may give clean chi...</td>\n",
              "      <td>1.0</td>\n",
              "    </tr>\n",
              "    <tr>\n",
              "      <th>5277</th>\n",
              "      <td>thanks lot bjp thanks for the acche din move ...</td>\n",
              "      <td>1.0</td>\n",
              "    </tr>\n",
              "    <tr>\n",
              "      <th>57789</th>\n",
              "      <td>had doubts what impact addressing the nation f...</td>\n",
              "      <td>1.0</td>\n",
              "    </tr>\n",
              "    <tr>\n",
              "      <th>40337</th>\n",
              "      <td>trolls have field day modi biopic trailer rages</td>\n",
              "      <td>0.0</td>\n",
              "    </tr>\n",
              "    <tr>\n",
              "      <th>2717</th>\n",
              "      <td>mai bhi chowkidar only bjp jai hind jai modi v...</td>\n",
              "      <td>0.0</td>\n",
              "    </tr>\n",
              "    <tr>\n",
              "      <th>...</th>\n",
              "      <td>...</td>\n",
              "      <td>...</td>\n",
              "    </tr>\n",
              "    <tr>\n",
              "      <th>58729</th>\n",
              "      <td>india becoming the fourth space super power ph...</td>\n",
              "      <td>1.0</td>\n",
              "    </tr>\n",
              "    <tr>\n",
              "      <th>145444</th>\n",
              "      <td>you want saying that modi brought the kiya mot...</td>\n",
              "      <td>0.0</td>\n",
              "    </tr>\n",
              "    <tr>\n",
              "      <th>4698</th>\n",
              "      <td>yes the time has come\\nbut 1st have receive ₹ ...</td>\n",
              "      <td>0.0</td>\n",
              "    </tr>\n",
              "    <tr>\n",
              "      <th>128160</th>\n",
              "      <td>where from the money for ayushman bharat yogan...</td>\n",
              "      <td>1.0</td>\n",
              "    </tr>\n",
              "    <tr>\n",
              "      <th>3418</th>\n",
              "      <td>answer bjp and modi attack congress for dynast...</td>\n",
              "      <td>0.0</td>\n",
              "    </tr>\n",
              "  </tbody>\n",
              "</table>\n",
              "<p>32018 rows × 2 columns</p>\n",
              "</div>"
            ],
            "text/plain": [
              "                                                     text  category\n",
              "106053  party name appeal for votes may give clean chi...       1.0\n",
              "5277     thanks lot bjp thanks for the acche din move ...       1.0\n",
              "57789   had doubts what impact addressing the nation f...       1.0\n",
              "40337    trolls have field day modi biopic trailer rages        0.0\n",
              "2717    mai bhi chowkidar only bjp jai hind jai modi v...       0.0\n",
              "...                                                   ...       ...\n",
              "58729   india becoming the fourth space super power ph...       1.0\n",
              "145444  you want saying that modi brought the kiya mot...       0.0\n",
              "4698    yes the time has come\\nbut 1st have receive ₹ ...       0.0\n",
              "128160  where from the money for ayushman bharat yogan...       1.0\n",
              "3418    answer bjp and modi attack congress for dynast...       0.0\n",
              "\n",
              "[32018 rows x 2 columns]"
            ]
          },
          "metadata": {
            "tags": []
          },
          "execution_count": 5
        }
      ]
    },
    {
      "cell_type": "code",
      "metadata": {
        "id": "7R69njI_Vakh",
        "outputId": "9d75db32-a292-48bb-b887-465000bbe88a",
        "colab": {
          "base_uri": "https://localhost:8080/",
          "height": 204
        }
      },
      "source": [
        "df_train[df_train['category'] == 1.0].sample(5)"
      ],
      "execution_count": 35,
      "outputs": [
        {
          "output_type": "execute_result",
          "data": {
            "text/html": [
              "<div>\n",
              "<style scoped>\n",
              "    .dataframe tbody tr th:only-of-type {\n",
              "        vertical-align: middle;\n",
              "    }\n",
              "\n",
              "    .dataframe tbody tr th {\n",
              "        vertical-align: top;\n",
              "    }\n",
              "\n",
              "    .dataframe thead th {\n",
              "        text-align: right;\n",
              "    }\n",
              "</style>\n",
              "<table border=\"1\" class=\"dataframe\">\n",
              "  <thead>\n",
              "    <tr style=\"text-align: right;\">\n",
              "      <th></th>\n",
              "      <th>text</th>\n",
              "      <th>category</th>\n",
              "    </tr>\n",
              "  </thead>\n",
              "  <tbody>\n",
              "    <tr>\n",
              "      <th>59426</th>\n",
              "      <td>btw heard soon after modi tweeted that coming ...</td>\n",
              "      <td>1.0</td>\n",
              "    </tr>\n",
              "    <tr>\n",
              "      <th>11287</th>\n",
              "      <td>one more proof paper these buggers live with c...</td>\n",
              "      <td>1.0</td>\n",
              "    </tr>\n",
              "    <tr>\n",
              "      <th>28110</th>\n",
              "      <td>shouldnt that guy jail right now and hes conte...</td>\n",
              "      <td>1.0</td>\n",
              "    </tr>\n",
              "    <tr>\n",
              "      <th>29864</th>\n",
              "      <td>this man will change the course our nation for...</td>\n",
              "      <td>1.0</td>\n",
              "    </tr>\n",
              "    <tr>\n",
              "      <th>118398</th>\n",
              "      <td>seems some undercurrent already started buildi...</td>\n",
              "      <td>1.0</td>\n",
              "    </tr>\n",
              "  </tbody>\n",
              "</table>\n",
              "</div>"
            ],
            "text/plain": [
              "                                                     text  category\n",
              "59426   btw heard soon after modi tweeted that coming ...       1.0\n",
              "11287   one more proof paper these buggers live with c...       1.0\n",
              "28110   shouldnt that guy jail right now and hes conte...       1.0\n",
              "29864   this man will change the course our nation for...       1.0\n",
              "118398  seems some undercurrent already started buildi...       1.0"
            ]
          },
          "metadata": {
            "tags": []
          },
          "execution_count": 35
        }
      ]
    },
    {
      "cell_type": "code",
      "metadata": {
        "id": "fZ3BFNNXVodI",
        "outputId": "f7223535-ef3a-4196-d6e5-03ed9f2025fb",
        "colab": {
          "base_uri": "https://localhost:8080/",
          "height": 204
        }
      },
      "source": [
        "df_train[df_train['category'] == 0].sample(5)"
      ],
      "execution_count": 38,
      "outputs": [
        {
          "output_type": "execute_result",
          "data": {
            "text/html": [
              "<div>\n",
              "<style scoped>\n",
              "    .dataframe tbody tr th:only-of-type {\n",
              "        vertical-align: middle;\n",
              "    }\n",
              "\n",
              "    .dataframe tbody tr th {\n",
              "        vertical-align: top;\n",
              "    }\n",
              "\n",
              "    .dataframe thead th {\n",
              "        text-align: right;\n",
              "    }\n",
              "</style>\n",
              "<table border=\"1\" class=\"dataframe\">\n",
              "  <thead>\n",
              "    <tr style=\"text-align: right;\">\n",
              "      <th></th>\n",
              "      <th>text</th>\n",
              "      <th>category</th>\n",
              "    </tr>\n",
              "  </thead>\n",
              "  <tbody>\n",
              "    <tr>\n",
              "      <th>48418</th>\n",
              "      <td>modi found any such institution his 5year turn</td>\n",
              "      <td>0.0</td>\n",
              "    </tr>\n",
              "    <tr>\n",
              "      <th>157097</th>\n",
              "      <td>after playing the pakistan card often even cla...</td>\n",
              "      <td>0.0</td>\n",
              "    </tr>\n",
              "    <tr>\n",
              "      <th>28118</th>\n",
              "      <td>but appreciate the work modi</td>\n",
              "      <td>0.0</td>\n",
              "    </tr>\n",
              "    <tr>\n",
              "      <th>36331</th>\n",
              "      <td>you deserve modi</td>\n",
              "      <td>0.0</td>\n",
              "    </tr>\n",
              "    <tr>\n",
              "      <th>101461</th>\n",
              "      <td>narendra modi not poot the constitutional fath...</td>\n",
              "      <td>0.0</td>\n",
              "    </tr>\n",
              "  </tbody>\n",
              "</table>\n",
              "</div>"
            ],
            "text/plain": [
              "                                                     text  category\n",
              "48418      modi found any such institution his 5year turn       0.0\n",
              "157097  after playing the pakistan card often even cla...       0.0\n",
              "28118                       but appreciate the work modi        0.0\n",
              "36331                                    you deserve modi       0.0\n",
              "101461  narendra modi not poot the constitutional fath...       0.0"
            ]
          },
          "metadata": {
            "tags": []
          },
          "execution_count": 38
        }
      ]
    },
    {
      "cell_type": "code",
      "metadata": {
        "id": "DKO2lSLYVzJz",
        "outputId": "ea91c6df-4ff7-4f75-d141-e374203c4381",
        "colab": {
          "base_uri": "https://localhost:8080/",
          "height": 204
        }
      },
      "source": [
        "df_train[df_train['category'] == -1.0].sample(5)"
      ],
      "execution_count": 39,
      "outputs": [
        {
          "output_type": "execute_result",
          "data": {
            "text/html": [
              "<div>\n",
              "<style scoped>\n",
              "    .dataframe tbody tr th:only-of-type {\n",
              "        vertical-align: middle;\n",
              "    }\n",
              "\n",
              "    .dataframe tbody tr th {\n",
              "        vertical-align: top;\n",
              "    }\n",
              "\n",
              "    .dataframe thead th {\n",
              "        text-align: right;\n",
              "    }\n",
              "</style>\n",
              "<table border=\"1\" class=\"dataframe\">\n",
              "  <thead>\n",
              "    <tr style=\"text-align: right;\">\n",
              "      <th></th>\n",
              "      <th>text</th>\n",
              "      <th>category</th>\n",
              "    </tr>\n",
              "  </thead>\n",
              "  <tbody>\n",
              "    <tr>\n",
              "      <th>13152</th>\n",
              "      <td>critisize the nation dance desh tere kitne tuk...</td>\n",
              "      <td>-1.0</td>\n",
              "    </tr>\n",
              "    <tr>\n",
              "      <th>34326</th>\n",
              "      <td>according wikipedia there was case filed about...</td>\n",
              "      <td>-1.0</td>\n",
              "    </tr>\n",
              "    <tr>\n",
              "      <th>155444</th>\n",
              "      <td>discard bjp before india becomes failed state ...</td>\n",
              "      <td>-1.0</td>\n",
              "    </tr>\n",
              "    <tr>\n",
              "      <th>129301</th>\n",
              "      <td>acrd 27lakh govt job got vacant yrs bsnl air i...</td>\n",
              "      <td>-1.0</td>\n",
              "    </tr>\n",
              "    <tr>\n",
              "      <th>78554</th>\n",
              "      <td>the brink failure modi sinks lower</td>\n",
              "      <td>-1.0</td>\n",
              "    </tr>\n",
              "  </tbody>\n",
              "</table>\n",
              "</div>"
            ],
            "text/plain": [
              "                                                     text  category\n",
              "13152   critisize the nation dance desh tere kitne tuk...      -1.0\n",
              "34326   according wikipedia there was case filed about...      -1.0\n",
              "155444  discard bjp before india becomes failed state ...      -1.0\n",
              "129301  acrd 27lakh govt job got vacant yrs bsnl air i...      -1.0\n",
              "78554                 the brink failure modi sinks lower       -1.0"
            ]
          },
          "metadata": {
            "tags": []
          },
          "execution_count": 39
        }
      ]
    },
    {
      "cell_type": "code",
      "metadata": {
        "id": "05FE5cZyFJ31"
      },
      "source": [
        "# It seems that positive = 1 and negative = -1 and neutral = 0"
      ],
      "execution_count": 6,
      "outputs": []
    },
    {
      "cell_type": "code",
      "metadata": {
        "id": "N1IrqkcPXGiw",
        "outputId": "f4a4217c-f9fb-4dc9-a727-a3f94b1a0a79",
        "colab": {
          "base_uri": "https://localhost:8080/",
          "height": 306
        }
      },
      "source": [
        "df_train.groupby('category').count().plot.bar()"
      ],
      "execution_count": 41,
      "outputs": [
        {
          "output_type": "execute_result",
          "data": {
            "text/plain": [
              "<matplotlib.axes._subplots.AxesSubplot at 0x7f2ac0cbe5f8>"
            ]
          },
          "metadata": {
            "tags": []
          },
          "execution_count": 41
        },
        {
          "output_type": "display_data",
          "data": {
            "image/png": "[encoded data removed]",
            "text/plain": [
              "<Figure size 432x288 with 1 Axes>"
            ]
          },
          "metadata": {
            "tags": [],
            "needs_background": "light"
          }
        }
      ]
    },
    {
      "cell_type": "code",
      "metadata": {
        "id": "nY2uT8EUFq_E"
      },
      "source": [
        "import numpy as np\n",
        "import tensorflow as tf\n",
        "\n",
        "# convert to one hot\n",
        "# positive = [0, 0, 1], negative = [1, 0, 0], neutral = [0, 1, 0]\n",
        "def to_one_hots(y_vals):\n",
        "    y = (y_vals + 1).astype(int)\n",
        "    return (\n",
        "        np.eye(\n",
        "            np.max(y) + 1\n",
        "        )[y]\n",
        "    ).astype(int)\n",
        "\n",
        "def df_to_ds(df):\n",
        "    return tf.data.Dataset.from_tensor_slices(\n",
        "        (df['text'].values, to_one_hots(df['category'].values))\n",
        "    )"
      ],
      "execution_count": 19,
      "outputs": []
    },
    {
      "cell_type": "code",
      "metadata": {
        "id": "PkuQpe3CF-sW"
      },
      "source": [
        "train_ds, val_ds = [df_to_ds(df) for df in [df_train, df_val]]\n",
        "\n",
        "BUFFER_SIZE = 1000\n",
        "BATCH_SIZE = 32\n",
        "\n",
        "train_ds = train_ds.shuffle(BUFFER_SIZE).padded_batch(BATCH_SIZE)\n",
        "\n",
        "val_ds = val_ds.padded_batch(BATCH_SIZE)"
      ],
      "execution_count": 20,
      "outputs": []
    },
    {
      "cell_type": "code",
      "metadata": {
        "id": "X6AhEdPmGBuV"
      },
      "source": [
        "import tensorflow_hub as hub\n",
        "from tensorflow.keras import layers\n",
        "\n",
        "def create_nnlm_model():\n",
        "    embedding = \"https://tfhub.dev/google/tf2-preview/nnlm-en-dim128/1\"\n",
        "    hub_layer = hub.KerasLayer(embedding, input_shape=[], \n",
        "                            dtype=tf.string, trainable=True)\n",
        "    \n",
        "    model = tf.keras.Sequential([\n",
        "        hub_layer,\n",
        "        layers.Dense(64, activation='relu'),\n",
        "        layers.Dropout(0.2),\n",
        "        layers.Dense(32, activation='relu'),\n",
        "        layers.Dense(3, activation='softmax')\n",
        "    ])\n",
        "\n",
        "    model.compile(loss=tf.keras.losses.CategoricalCrossentropy(from_logits=True),\n",
        "              optimizer=tf.keras.optimizers.Adam(5e-5),\n",
        "              metrics=['accuracy'])\n",
        "    return model"
      ],
      "execution_count": 22,
      "outputs": []
    },
    {
      "cell_type": "code",
      "metadata": {
        "id": "6GUPpIiIGELE",
        "outputId": "c520a547-c93d-4480-cc30-0d87973c69be",
        "colab": {
          "base_uri": "https://localhost:8080/",
          "height": 411
        }
      },
      "source": [
        "model = create_nnlm_model()\n",
        "model.summary()"
      ],
      "execution_count": 23,
      "outputs": [
        {
          "output_type": "stream",
          "text": [
            "WARNING:tensorflow:7 out of the last 7 calls to <function recreate_function.<locals>.restored_function_body at 0x7f2ac5293488> triggered tf.function retracing. Tracing is expensive and the excessive number of tracings could be due to (1) creating @tf.function repeatedly in a loop, (2) passing tensors with different shapes, (3) passing Python objects instead of tensors. For (1), please define your @tf.function outside of the loop. For (2), @tf.function has experimental_relax_shapes=True option that relaxes argument shapes that can avoid unnecessary retracing. For (3), please refer to https://www.tensorflow.org/tutorials/customization/performance#python_or_tensor_args and https://www.tensorflow.org/api_docs/python/tf/function for  more details.\n"
          ],
          "name": "stdout"
        },
        {
          "output_type": "stream",
          "text": [
            "WARNING:tensorflow:7 out of the last 7 calls to <function recreate_function.<locals>.restored_function_body at 0x7f2ac5293488> triggered tf.function retracing. Tracing is expensive and the excessive number of tracings could be due to (1) creating @tf.function repeatedly in a loop, (2) passing tensors with different shapes, (3) passing Python objects instead of tensors. For (1), please define your @tf.function outside of the loop. For (2), @tf.function has experimental_relax_shapes=True option that relaxes argument shapes that can avoid unnecessary retracing. For (3), please refer to https://www.tensorflow.org/tutorials/customization/performance#python_or_tensor_args and https://www.tensorflow.org/api_docs/python/tf/function for  more details.\n"
          ],
          "name": "stderr"
        },
        {
          "output_type": "stream",
          "text": [
            "WARNING:tensorflow:8 out of the last 8 calls to <function recreate_function.<locals>.restored_function_body at 0x7f2ac521ea60> triggered tf.function retracing. Tracing is expensive and the excessive number of tracings could be due to (1) creating @tf.function repeatedly in a loop, (2) passing tensors with different shapes, (3) passing Python objects instead of tensors. For (1), please define your @tf.function outside of the loop. For (2), @tf.function has experimental_relax_shapes=True option that relaxes argument shapes that can avoid unnecessary retracing. For (3), please refer to https://www.tensorflow.org/tutorials/customization/performance#python_or_tensor_args and https://www.tensorflow.org/api_docs/python/tf/function for  more details.\n"
          ],
          "name": "stdout"
        },
        {
          "output_type": "stream",
          "text": [
            "WARNING:tensorflow:8 out of the last 8 calls to <function recreate_function.<locals>.restored_function_body at 0x7f2ac521ea60> triggered tf.function retracing. Tracing is expensive and the excessive number of tracings could be due to (1) creating @tf.function repeatedly in a loop, (2) passing tensors with different shapes, (3) passing Python objects instead of tensors. For (1), please define your @tf.function outside of the loop. For (2), @tf.function has experimental_relax_shapes=True option that relaxes argument shapes that can avoid unnecessary retracing. For (3), please refer to https://www.tensorflow.org/tutorials/customization/performance#python_or_tensor_args and https://www.tensorflow.org/api_docs/python/tf/function for  more details.\n"
          ],
          "name": "stderr"
        },
        {
          "output_type": "stream",
          "text": [
            "Model: \"sequential_3\"\n",
            "_________________________________________________________________\n",
            "Layer (type)                 Output Shape              Param #   \n",
            "=================================================================\n",
            "keras_layer_3 (KerasLayer)   (None, 128)               124642688 \n",
            "_________________________________________________________________\n",
            "dense_9 (Dense)              (None, 64)                8256      \n",
            "_________________________________________________________________\n",
            "dropout_3 (Dropout)          (None, 64)                0         \n",
            "_________________________________________________________________\n",
            "dense_10 (Dense)             (None, 32)                2080      \n",
            "_________________________________________________________________\n",
            "dense_11 (Dense)             (None, 3)                 99        \n",
            "=================================================================\n",
            "Total params: 124,653,123\n",
            "Trainable params: 124,653,123\n",
            "Non-trainable params: 0\n",
            "_________________________________________________________________\n"
          ],
          "name": "stdout"
        }
      ]
    },
    {
      "cell_type": "code",
      "metadata": {
        "id": "biLPDcu_GHS9",
        "outputId": "b404a929-9130-456c-c83a-65ecc95348bd",
        "colab": {
          "base_uri": "https://localhost:8080/",
          "height": 187
        }
      },
      "source": [
        "history = model.fit(\n",
        "    train_ds, validation_data=val_ds, validation_steps=30, epochs=5\n",
        ")"
      ],
      "execution_count": 24,
      "outputs": [
        {
          "output_type": "stream",
          "text": [
            "Epoch 1/5\n",
            "1001/1001 [==============================] - 73s 73ms/step - loss: 1.0550 - accuracy: 0.4551 - val_loss: 1.0207 - val_accuracy: 0.5125\n",
            "Epoch 2/5\n",
            "1001/1001 [==============================] - 73s 73ms/step - loss: 0.9670 - accuracy: 0.6040 - val_loss: 0.9378 - val_accuracy: 0.6281\n",
            "Epoch 3/5\n",
            "1001/1001 [==============================] - 73s 73ms/step - loss: 0.8905 - accuracy: 0.6788 - val_loss: 0.8832 - val_accuracy: 0.6771\n",
            "Epoch 4/5\n",
            "1001/1001 [==============================] - 73s 73ms/step - loss: 0.8351 - accuracy: 0.7254 - val_loss: 0.8400 - val_accuracy: 0.7219\n",
            "Epoch 5/5\n",
            "1001/1001 [==============================] - 73s 73ms/step - loss: 0.7827 - accuracy: 0.7880 - val_loss: 0.8023 - val_accuracy: 0.7542\n"
          ],
          "name": "stdout"
        }
      ]
    },
    {
      "cell_type": "code",
      "metadata": {
        "id": "0xexXwCyNkRn",
        "outputId": "d4f4b33c-df97-41e7-c515-f81b68319c90",
        "colab": {
          "base_uri": "https://localhost:8080/",
          "height": 573
        }
      },
      "source": [
        "plt.plot(history.history['accuracy'])\n",
        "plt.plot(history.history['val_accuracy'])\n",
        "plt.title('model accuracy')\n",
        "plt.ylabel('accuracy')\n",
        "plt.xlabel('epoch')\n",
        "plt.legend(['train', 'val'], loc='upper left')\n",
        "plt.show()\n",
        "# summarize history for loss\n",
        "plt.plot(history.history['loss'])\n",
        "plt.plot(history.history['val_loss'])\n",
        "plt.title('model loss')\n",
        "plt.ylabel('loss')\n",
        "plt.xlabel('epoch')\n",
        "plt.legend(['train', 'val'], loc='upper left')\n",
        "plt.show()"
      ],
      "execution_count": 27,
      "outputs": [
        {
          "output_type": "display_data",
          "data": {
            "image/png": "[encoded data removed]",
            "text/plain": [
              "<Figure size 432x288 with 1 Axes>"
            ]
          },
          "metadata": {
            "tags": [],
            "needs_background": "light"
          }
        },
        {
          "output_type": "display_data",
          "data": {
            "image/png": "[encoded data removed]",
            "text/plain": [
              "<Figure size 432x288 with 1 Axes>"
            ]
          },
          "metadata": {
            "tags": [],
            "needs_background": "light"
          }
        }
      ]
    },
    {
      "cell_type": "code",
      "metadata": {
        "id": "gXPbzxmtGbcs",
        "outputId": "1d1fa8ee-502c-46db-cca3-a583fc373836",
        "colab": {
          "base_uri": "https://localhost:8080/",
          "height": 357
        }
      },
      "source": [
        "history1 = model.fit(\n",
        "    train_ds, validation_data=val_ds, validation_steps=30, epochs=10\n",
        ")"
      ],
      "execution_count": 25,
      "outputs": [
        {
          "output_type": "stream",
          "text": [
            "Epoch 1/10\n",
            "1001/1001 [==============================] - 73s 73ms/step - loss: 0.7380 - accuracy: 0.8352 - val_loss: 0.7752 - val_accuracy: 0.7792\n",
            "Epoch 2/10\n",
            "1001/1001 [==============================] - 73s 73ms/step - loss: 0.7018 - accuracy: 0.8698 - val_loss: 0.7523 - val_accuracy: 0.7969\n",
            "Epoch 3/10\n",
            "1001/1001 [==============================] - 73s 73ms/step - loss: 0.6747 - accuracy: 0.8971 - val_loss: 0.7355 - val_accuracy: 0.8198\n",
            "Epoch 4/10\n",
            "1001/1001 [==============================] - 73s 73ms/step - loss: 0.6520 - accuracy: 0.9157 - val_loss: 0.7229 - val_accuracy: 0.8313\n",
            "Epoch 5/10\n",
            "1001/1001 [==============================] - 73s 73ms/step - loss: 0.6347 - accuracy: 0.9317 - val_loss: 0.7152 - val_accuracy: 0.8313\n",
            "Epoch 6/10\n",
            "1001/1001 [==============================] - 73s 73ms/step - loss: 0.6211 - accuracy: 0.9426 - val_loss: 0.7090 - val_accuracy: 0.8438\n",
            "Epoch 7/10\n",
            "1001/1001 [==============================] - 73s 73ms/step - loss: 0.6099 - accuracy: 0.9522 - val_loss: 0.7053 - val_accuracy: 0.8479\n",
            "Epoch 8/10\n",
            "1001/1001 [==============================] - 73s 73ms/step - loss: 0.6010 - accuracy: 0.9590 - val_loss: 0.7016 - val_accuracy: 0.8521\n",
            "Epoch 9/10\n",
            "1001/1001 [==============================] - 73s 73ms/step - loss: 0.5943 - accuracy: 0.9641 - val_loss: 0.6984 - val_accuracy: 0.8573\n",
            "Epoch 10/10\n",
            "1001/1001 [==============================] - 73s 73ms/step - loss: 0.5887 - accuracy: 0.9693 - val_loss: 0.6973 - val_accuracy: 0.8542\n"
          ],
          "name": "stdout"
        }
      ]
    },
    {
      "cell_type": "code",
      "metadata": {
        "id": "yaL3MvOPJZsN",
        "outputId": "d4fba984-0c4c-46a9-d5b8-b92861d24db8",
        "colab": {
          "base_uri": "https://localhost:8080/",
          "height": 573
        }
      },
      "source": [
        "plt.plot(history1.history['accuracy'])\n",
        "plt.plot(history1.history['val_accuracy'])\n",
        "plt.title('model accuracy')\n",
        "plt.ylabel('accuracy')\n",
        "plt.xlabel('epoch')\n",
        "plt.legend(['train', 'val'], loc='upper left')\n",
        "plt.show()\n",
        "# summarize history for loss\n",
        "plt.plot(history1.history['loss'])\n",
        "plt.plot(history1.history['val_loss'])\n",
        "plt.title('model loss')\n",
        "plt.ylabel('loss')\n",
        "plt.xlabel('epoch')\n",
        "plt.legend(['train', 'val'], loc='upper left')\n",
        "plt.show()"
      ],
      "execution_count": 28,
      "outputs": [
        {
          "output_type": "display_data",
          "data": {
            "image/png": "[encoded data removed]",
            "text/plain": [
              "<Figure size 432x288 with 1 Axes>"
            ]
          },
          "metadata": {
            "tags": [],
            "needs_background": "light"
          }
        },
        {
          "output_type": "display_data",
          "data": {
            "image/png": "[encoded data removed]",
            "text/plain": [
              "<Figure size 432x288 with 1 Axes>"
            ]
          },
          "metadata": {
            "tags": [],
            "needs_background": "light"
          }
        }
      ]
    },
    {
      "cell_type": "code",
      "metadata": {
        "id": "OeDbZ9r3XtVl"
      },
      "source": [
        "test_ds = df_to_ds(df_test)\n",
        "test_ds = test_ds.padded_batch(BATCH_SIZE)"
      ],
      "execution_count": 44,
      "outputs": []
    },
    {
      "cell_type": "code",
      "metadata": {
        "id": "CD5UD8PlXyxS",
        "outputId": "8eb784c0-e8f9-4ed4-c8ba-c89635d3351d",
        "colab": {
          "base_uri": "https://localhost:8080/",
          "height": 51
        }
      },
      "source": [
        "model.evaluate(test_ds)"
      ],
      "execution_count": 45,
      "outputs": [
        {
          "output_type": "stream",
          "text": [
            "5003/5003 [==============================] - 34s 7ms/step - loss: 0.6817 - accuracy: 0.8695\n"
          ],
          "name": "stdout"
        },
        {
          "output_type": "execute_result",
          "data": {
            "text/plain": [
              "[0.6816648840904236, 0.8695150017738342]"
            ]
          },
          "metadata": {
            "tags": []
          },
          "execution_count": 45
        }
      ]
    },
    {
      "cell_type": "code",
      "metadata": {
        "id": "3rihYClTOosz",
        "outputId": "c8a7763e-2cf7-4c40-bc58-c13572795fcc",
        "colab": {
          "base_uri": "https://localhost:8080/",
          "height": 34
        }
      },
      "source": [
        "model.predict(['Im not very happy']) # negative as expected"
      ],
      "execution_count": 32,
      "outputs": [
        {
          "output_type": "execute_result",
          "data": {
            "text/plain": [
              "array([[1.4465879e-06, 3.5533659e-11, 9.9999857e-01]], dtype=float32)"
            ]
          },
          "metadata": {
            "tags": []
          },
          "execution_count": 32
        }
      ]
    },
    {
      "cell_type": "code",
      "metadata": {
        "id": "sNOB_2pRVOZ8",
        "outputId": "c6bb4aff-ded4-40bc-ff72-05d9f0cf7053",
        "colab": {
          "base_uri": "https://localhost:8080/",
          "height": 34
        }
      },
      "source": [
        "model.predict(['im sooo very happpy']) # positive as expected"
      ],
      "execution_count": 42,
      "outputs": [
        {
          "output_type": "execute_result",
          "data": {
            "text/plain": [
              "array([[9.081827e-01, 7.413144e-04, 9.107605e-02]], dtype=float32)"
            ]
          },
          "metadata": {
            "tags": []
          },
          "execution_count": 42
        }
      ]
    },
    {
      "cell_type": "code",
      "metadata": {
        "id": "bkYtMh22Xdbx",
        "outputId": "5393f1c5-2e0e-43d0-d030-6b1e3d71e5df",
        "colab": {
          "base_uri": "https://localhost:8080/",
          "height": 34
        }
      },
      "source": [
        "model.predict(['i have work to do']) # very neutral"
      ],
      "execution_count": 43,
      "outputs": [
        {
          "output_type": "execute_result",
          "data": {
            "text/plain": [
              "array([[0.00327233, 0.9942239 , 0.0025038 ]], dtype=float32)"
            ]
          },
          "metadata": {
            "tags": []
          },
          "execution_count": 43
        }
      ]
    },
    {
      "cell_type": "code",
      "metadata": {
        "id": "uqJhn0g7N1DD",
        "outputId": "304f23b0-e175-4893-a859-776855bbc7bb",
        "colab": {
          "base_uri": "https://localhost:8080/",
          "height": 275
        }
      },
      "source": [
        "model.save('model')"
      ],
      "execution_count": 29,
      "outputs": [
        {
          "output_type": "stream",
          "text": [
            "WARNING:tensorflow:From /usr/local/lib/python3.6/dist-packages/tensorflow/python/training/tracking/tracking.py:111: Model.state_updates (from tensorflow.python.keras.engine.training) is deprecated and will be removed in a future version.\n",
            "Instructions for updating:\n",
            "This property should not be used in TensorFlow 2.0, as updates are applied automatically.\n"
          ],
          "name": "stdout"
        },
        {
          "output_type": "stream",
          "text": [
            "WARNING:tensorflow:From /usr/local/lib/python3.6/dist-packages/tensorflow/python/training/tracking/tracking.py:111: Model.state_updates (from tensorflow.python.keras.engine.training) is deprecated and will be removed in a future version.\n",
            "Instructions for updating:\n",
            "This property should not be used in TensorFlow 2.0, as updates are applied automatically.\n"
          ],
          "name": "stderr"
        },
        {
          "output_type": "stream",
          "text": [
            "WARNING:tensorflow:From /usr/local/lib/python3.6/dist-packages/tensorflow/python/training/tracking/tracking.py:111: Layer.updates (from tensorflow.python.keras.engine.base_layer) is deprecated and will be removed in a future version.\n",
            "Instructions for updating:\n",
            "This property should not be used in TensorFlow 2.0, as updates are applied automatically.\n"
          ],
          "name": "stdout"
        },
        {
          "output_type": "stream",
          "text": [
            "WARNING:tensorflow:From /usr/local/lib/python3.6/dist-packages/tensorflow/python/training/tracking/tracking.py:111: Layer.updates (from tensorflow.python.keras.engine.base_layer) is deprecated and will be removed in a future version.\n",
            "Instructions for updating:\n",
            "This property should not be used in TensorFlow 2.0, as updates are applied automatically.\n"
          ],
          "name": "stderr"
        },
        {
          "output_type": "stream",
          "text": [
            "INFO:tensorflow:Assets written to: model/assets\n"
          ],
          "name": "stdout"
        },
        {
          "output_type": "stream",
          "text": [
            "INFO:tensorflow:Assets written to: model/assets\n"
          ],
          "name": "stderr"
        }
      ]
    },
    {
      "cell_type": "code",
      "metadata": {
        "id": "hFXmKv97Oeor",
        "outputId": "8db087f7-3cde-43c9-d6b8-24d33587dc3d",
        "colab": {
          "base_uri": "https://localhost:8080/",
          "height": 136
        }
      },
      "source": [
        "!zip -r model.zip model/"
      ],
      "execution_count": 30,
      "outputs": [
        {
          "output_type": "stream",
          "text": [
            "  adding: model/ (stored 0%)\n",
            "  adding: model/assets/ (stored 0%)\n",
            "  adding: model/assets/tokens.txt (deflated 43%)\n",
            "  adding: model/saved_model.pb (deflated 87%)\n",
            "  adding: model/variables/ (stored 0%)\n",
            "  adding: model/variables/variables.index (deflated 63%)\n",
            "  adding: model/variables/variables.data-00000-of-00001 (deflated 67%)\n"
          ],
          "name": "stdout"
        }
      ]
    }
  ]
}